{
 "cells": [
  {
   "cell_type": "markdown",
   "metadata": {},
   "source": [
    "# Document Classify"
   ]
  },
  {
   "cell_type": "markdown",
   "metadata": {},
   "source": [
    "Ejemplo extradido del libro: Natural Language Processing with Python Cookbook"
   ]
  },
  {
   "cell_type": "code",
   "execution_count": null,
   "metadata": {},
   "outputs": [],
   "source": []
  },
  {
   "cell_type": "code",
   "execution_count": 1,
   "metadata": {},
   "outputs": [],
   "source": [
    "import nltk"
   ]
  },
  {
   "cell_type": "code",
   "execution_count": 2,
   "metadata": {},
   "outputs": [],
   "source": [
    "import random"
   ]
  },
  {
   "cell_type": "code",
   "execution_count": 4,
   "metadata": {},
   "outputs": [],
   "source": [
    "import feedparser"
   ]
  },
  {
   "cell_type": "code",
   "execution_count": 5,
   "metadata": {},
   "outputs": [],
   "source": [
    "urls = {\n",
    "    'mlb': 'https://sports.yahoo.com/mlb/rss.xml',\n",
    "    'nfl': 'https://sports.yahoo.com/nfl/rss.xml',\n",
    "}"
   ]
  },
  {
   "cell_type": "code",
   "execution_count": 6,
   "metadata": {},
   "outputs": [],
   "source": [
    "feedmap = {}"
   ]
  },
  {
   "cell_type": "code",
   "execution_count": 7,
   "metadata": {},
   "outputs": [],
   "source": [
    "stopwords = nltk.corpus.stopwords.words('english')"
   ]
  },
  {
   "cell_type": "code",
   "execution_count": 8,
   "metadata": {},
   "outputs": [],
   "source": [
    "def featureExtractor(words):\n",
    "    features = {}\n",
    "    for word in words:\n",
    "        if word not in stopwords:\n",
    "            features[\"word({})\".format(word)] = True\n",
    "    return features"
   ]
  },
  {
   "cell_type": "code",
   "execution_count": 9,
   "metadata": {},
   "outputs": [],
   "source": [
    "sentences = []"
   ]
  },
  {
   "cell_type": "code",
   "execution_count": 10,
   "metadata": {},
   "outputs": [
    {
     "name": "stdout",
     "output_type": "stream",
     "text": [
      "downloading https://sports.yahoo.com/nfl/rss.xml\n",
      "downloading https://sports.yahoo.com/mlb/rss.xml\n"
     ]
    }
   ],
   "source": [
    "for category in urls.keys():\n",
    "    feedmap[category] = feedparser.parse(urls[category])\n",
    "    print(\"downloading {}\".format(urls[category]))\n",
    "    for entry in feedmap[category]['entries']:\n",
    "        data = entry['summary']\n",
    "        words = data.split()\n",
    "        sentences.append((category, words))"
   ]
  },
  {
   "cell_type": "code",
   "execution_count": 11,
   "metadata": {},
   "outputs": [],
   "source": [
    "featuresets = [(featureExtractor(words), category) for category, words in sentences]"
   ]
  },
  {
   "cell_type": "code",
   "execution_count": 12,
   "metadata": {},
   "outputs": [],
   "source": [
    "random.shuffle(featuresets)"
   ]
  },
  {
   "cell_type": "code",
   "execution_count": 13,
   "metadata": {},
   "outputs": [],
   "source": [
    "total = len(featuresets)"
   ]
  },
  {
   "cell_type": "code",
   "execution_count": 14,
   "metadata": {},
   "outputs": [],
   "source": [
    "off = int(total/2)"
   ]
  },
  {
   "cell_type": "code",
   "execution_count": 15,
   "metadata": {},
   "outputs": [],
   "source": [
    "trainset = featuresets[off:]"
   ]
  },
  {
   "cell_type": "code",
   "execution_count": 16,
   "metadata": {},
   "outputs": [],
   "source": [
    "testset = featuresets[:off]"
   ]
  },
  {
   "cell_type": "code",
   "execution_count": 17,
   "metadata": {},
   "outputs": [],
   "source": [
    "classifier = nltk.NaiveBayesClassifier.train(trainset)"
   ]
  },
  {
   "cell_type": "code",
   "execution_count": 18,
   "metadata": {},
   "outputs": [
    {
     "name": "stdout",
     "output_type": "stream",
     "text": [
      "0.8235294117647058\n"
     ]
    }
   ],
   "source": [
    "print(nltk.classify.accuracy(classifier, testset))"
   ]
  },
  {
   "cell_type": "code",
   "execution_count": 19,
   "metadata": {},
   "outputs": [
    {
     "name": "stdout",
     "output_type": "stream",
     "text": [
      "Most Informative Features\n",
      "             word(three) = True              nfl : mlb    =      3.5 : 1.0\n",
      "                 word(A) = True              mlb : nfl    =      3.3 : 1.0\n",
      "                word(--) = True              mlb : nfl    =      2.5 : 1.0\n",
      "            word(Monday) = True              mlb : nfl    =      2.3 : 1.0\n",
      "              word(take) = True              mlb : nfl    =      2.3 : 1.0\n"
     ]
    }
   ],
   "source": [
    "classifier.show_most_informative_features(5)"
   ]
  },
  {
   "cell_type": "code",
   "execution_count": 20,
   "metadata": {},
   "outputs": [
    {
     "name": "stdout",
     "output_type": "stream",
     "text": [
      "nfl -> The former NFL MVP looks like his \"old\" self three games into the season, but he's fed up with the narratives forming around his strong start.\n",
      "nfl -> The Titans run much more than they throw, which should play into the hands of the Eagles' defense. By Reuben Frank\n",
      "nfl -> Pittsburgh Steelers rise nine spots in Week 4 power rankings, now rankings at No. 7 on Elliot Harrison's list.\n",
      "nfl -> Jimmy Garoppolo’s season-ending ACL injury was one of the biggest Week 3 storylines. Now, the 49ers will have to try and salvage their season without their franchise quarterback. C.J. Beathard isn’t exactly Aaron Rodgers, so it’s no surprise why our Yahoo Fantasy Football experts have the Los Angeles\n"
     ]
    }
   ],
   "source": [
    "for (i, entry) in enumerate(feedmap['nfl']['entries']):\n",
    "    if i < 4:\n",
    "        features = featureExtractor(entry['title'].split())\n",
    "        category = classifier.classify(features)\n",
    "        print('{} -> {}'.format(category, entry['summary']))"
   ]
  },
  {
   "cell_type": "code",
   "execution_count": null,
   "metadata": {},
   "outputs": [],
   "source": []
  }
 ],
 "metadata": {
  "kernelspec": {
   "display_name": "Python 3",
   "language": "python",
   "name": "python3"
  },
  "language_info": {
   "codemirror_mode": {
    "name": "ipython",
    "version": 3
   },
   "file_extension": ".py",
   "mimetype": "text/x-python",
   "name": "python",
   "nbconvert_exporter": "python",
   "pygments_lexer": "ipython3",
   "version": "3.5.6"
  }
 },
 "nbformat": 4,
 "nbformat_minor": 2
}
