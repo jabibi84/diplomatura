{
 "cells": [
  {
   "cell_type": "markdown",
   "metadata": {},
   "source": [
    "# TF-IDF algorithm Text Similarity"
   ]
  },
  {
   "cell_type": "markdown",
   "metadata": {},
   "source": [
    "Term frequency (TF): This technique tries to find the relative importance (or frequency) of the word in a given document"
   ]
  },
  {
   "cell_type": "markdown",
   "metadata": {},
   "source": [
    "Inverse document frequency (IDF) : This technique makes sure that words that are frequently used (a, the, and so on) should be given lower weight when compared to the words that are rarely used."
   ]
  },
  {
   "cell_type": "markdown",
   "metadata": {},
   "source": [
    "The text similarity problem deals with the challenge of finding how close given text documents are"
   ]
  },
  {
   "cell_type": "code",
   "execution_count": 1,
   "metadata": {},
   "outputs": [],
   "source": [
    "import nltk"
   ]
  },
  {
   "cell_type": "code",
   "execution_count": 2,
   "metadata": {},
   "outputs": [],
   "source": [
    "import math"
   ]
  },
  {
   "cell_type": "code",
   "execution_count": 3,
   "metadata": {},
   "outputs": [],
   "source": [
    "from sklearn.feature_extraction.text import TfidfVectorizer"
   ]
  },
  {
   "cell_type": "code",
   "execution_count": 4,
   "metadata": {},
   "outputs": [],
   "source": [
    "from sklearn.metrics.pairwise import cosine_similarity"
   ]
  },
  {
   "cell_type": "code",
   "execution_count": 5,
   "metadata": {},
   "outputs": [],
   "source": [
    "class TextSimilarityExample:\n",
    "    def __init__(self):\n",
    "        self.statements = [\n",
    "            'ruled india',\n",
    "            'Chalukyas ruled Badami',\n",
    "            'So many kingdoms ruled India',\n",
    "            'Lalbagh is a botanical garden in India'\n",
    "        ]\n",
    "    def TF(self, sentence):\n",
    "        words = nltk.word_tokenize(sentence.lower())\n",
    "        freq = nltk.FreqDist(words)\n",
    "        dictionary = {}\n",
    "        for key in freq.keys():\n",
    "            norm = freq[key]/float(len(words))\n",
    "            dictionary[key] = norm\n",
    "        return dictionary\n",
    "\n",
    "    def IDF(self):\n",
    "        def idf(TotalNumberOfDocuments, NumberOfDocumentsWithThisWord):\n",
    "            return 1.0 + math.log(TotalNumberOfDocuments/NumberOfDocumentsWithThisWord)\n",
    "        numDocuments = len(self.statements)\n",
    "        uniqueWords = {}\n",
    "        idfValues = {}\n",
    "        for sentence in self.statements:\n",
    "            for word in nltk.word_tokenize(sentence.lower()):\n",
    "                if word not in uniqueWords:\n",
    "                    uniqueWords[word] = 1\n",
    "                else:\n",
    "                    uniqueWords[word] += 1\n",
    "        for word in uniqueWords:\n",
    "            idfValues[word] = idf(numDocuments, uniqueWords[word])\n",
    "        return idfValues\n",
    "\n",
    "    def TF_IDF(self, query):\n",
    "        words = nltk.word_tokenize(query.lower())\n",
    "        idf = self.IDF()\n",
    "        vectors = {}\n",
    "        for sentence in self.statements:\n",
    "            tf = self.TF(sentence)\n",
    "            for word in words:\n",
    "                tfv = tf[word] if word in tf else 0.0\n",
    "                idfv = idf[word] if word in idf else 0.0\n",
    "                mul = tfv * idfv\n",
    "                if word not in vectors:\n",
    "                    vectors[word] = []\n",
    "                vectors[word].append(mul)\n",
    "        return vectors\n",
    "\n",
    "    def displayVectors(self, vectors):\n",
    "        print(self.statements)\n",
    "        for word in vectors:\n",
    "            print(\"{} -> {}\".format(word, vectors[word]))\n",
    "\n",
    "    def cosineSimilarity(self):\n",
    "        vec = TfidfVectorizer()\n",
    "        matrix = vec.fit_transform(self.statements)\n",
    "        for j in range(1, 5):\n",
    "            i = j - 1\n",
    "            print(\"\\tsimilarity of document {} with others\".format(i))\n",
    "            similarity = cosine_similarity(matrix[i:j], matrix)\n",
    "            print(similarity)\n",
    "\n",
    "    def demo(self):\n",
    "        inputQuery = self.statements[0]\n",
    "        vectors = self.TF_IDF(inputQuery)\n",
    "        self.displayVectors(vectors)\n",
    "        self.cosineSimilarity()"
   ]
  },
  {
   "cell_type": "code",
   "execution_count": 6,
   "metadata": {},
   "outputs": [],
   "source": [
    "similarity = TextSimilarityExample()"
   ]
  },
  {
   "cell_type": "code",
   "execution_count": 7,
   "metadata": {},
   "outputs": [
    {
     "name": "stdout",
     "output_type": "stream",
     "text": [
      "['ruled india', 'Chalukyas ruled Badami', 'So many kingdoms ruled India', 'Lalbagh is a botanical garden in India']\n",
      "ruled -> [0.6438410362258904, 0.42922735748392693, 0.2575364144903562, 0.0]\n",
      "india -> [0.6438410362258904, 0.0, 0.2575364144903562, 0.18395458177882582]\n",
      "\tsimilarity of document 0 with others\n",
      "[[ 1.          0.29088811  0.46216171  0.19409143]]\n",
      "\tsimilarity of document 1 with others\n",
      "[[ 0.29088811  1.          0.13443735  0.        ]]\n",
      "\tsimilarity of document 2 with others\n",
      "[[ 0.46216171  0.13443735  1.          0.08970163]]\n",
      "\tsimilarity of document 3 with others\n",
      "[[ 0.19409143  0.          0.08970163  1.        ]]\n"
     ]
    }
   ],
   "source": [
    "similarity.demo()"
   ]
  },
  {
   "cell_type": "code",
   "execution_count": null,
   "metadata": {},
   "outputs": [],
   "source": []
  },
  {
   "cell_type": "code",
   "execution_count": null,
   "metadata": {},
   "outputs": [],
   "source": []
  },
  {
   "cell_type": "code",
   "execution_count": null,
   "metadata": {},
   "outputs": [],
   "source": []
  },
  {
   "cell_type": "code",
   "execution_count": null,
   "metadata": {},
   "outputs": [],
   "source": []
  }
 ],
 "metadata": {
  "kernelspec": {
   "display_name": "Python 3",
   "language": "python",
   "name": "python3"
  },
  "language_info": {
   "codemirror_mode": {
    "name": "ipython",
    "version": 3
   },
   "file_extension": ".py",
   "mimetype": "text/x-python",
   "name": "python",
   "nbconvert_exporter": "python",
   "pygments_lexer": "ipython3",
   "version": "3.5.6"
  }
 },
 "nbformat": 4,
 "nbformat_minor": 2
}
