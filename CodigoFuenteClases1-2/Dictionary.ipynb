{
 "cells": [
  {
   "cell_type": "code",
   "execution_count": 1,
   "metadata": {},
   "outputs": [],
   "source": [
    "import nltk"
   ]
  },
  {
   "cell_type": "code",
   "execution_count": 2,
   "metadata": {},
   "outputs": [],
   "source": [
    "class LearningDictionary():\n",
    "    def __init__(self, sentence):\n",
    "        self.words = nltk.word_tokenize(sentence)\n",
    "        self.tagged = nltk.pos_tag(self.words)\n",
    "        self.buildDictionary()\n",
    "        self.buildReverseDictionary()\n",
    "\n",
    "    def buildDictionary(self):\n",
    "        self.dictionary = {}\n",
    "        for (word, pos) in self.tagged:\n",
    "            self.dictionary[word] = pos\n",
    "\n",
    "    def buildReverseDictionary(self):\n",
    "        self.rdictionary = {}\n",
    "        for key in self.dictionary.keys():\n",
    "            value = self.dictionary[key]\n",
    "            if value not in self.rdictionary:\n",
    "                self.rdictionary[value] = [key]\n",
    "            else:\n",
    "                self.rdictionary[value].append(key)\n",
    "\n",
    "    def isWordPresent(self, word):\n",
    "        return 'Yes' if word in self.dictionary else 'No'\n",
    "\n",
    "\n",
    "    def getPOSForWord(self, word):\n",
    "        return self.dictionary[word] if word in self.dictionary else None\n",
    "\n",
    "    def getWordsForPOS(self, pos):\n",
    "        return self.rdictionary[pos] if pos in self.rdictionary else None"
   ]
  },
  {
   "cell_type": "code",
   "execution_count": null,
   "metadata": {},
   "outputs": [],
   "source": [
    "sentence = \"All the flights got delayed due to bad weather\""
   ]
  },
  {
   "cell_type": "code",
   "execution_count": null,
   "metadata": {},
   "outputs": [],
   "source": [
    "learning = LearningDictionary(sentence)"
   ]
  },
  {
   "cell_type": "code",
   "execution_count": null,
   "metadata": {},
   "outputs": [],
   "source": [
    "words = [\"chair\", \"flights\", \"delayed\", \"pencil\", \"weather\"]"
   ]
  },
  {
   "cell_type": "code",
   "execution_count": null,
   "metadata": {},
   "outputs": [],
   "source": [
    "pos = [\"NN\", \"VBS\", \"NNS\"]"
   ]
  },
  {
   "cell_type": "code",
   "execution_count": null,
   "metadata": {},
   "outputs": [],
   "source": [
    "for word in words:\n",
    "    status = learning.isWordPresent(word)\n",
    "    print(\"Is '{}' present in dictionary ? : '{}'\".format(word, status))\n",
    "    if status is True:\n",
    "        print(\"\\tPOS For '{}' is '{}'\".format(word, learning.getPOSForWord(word)))"
   ]
  },
  {
   "cell_type": "code",
   "execution_count": null,
   "metadata": {},
   "outputs": [],
   "source": [
    "for pword in pos:\n",
    "    print(\"POS '{}' has '{}' words\".format(pword, learning.getWordsForPOS(pword)))"
   ]
  },
  {
   "cell_type": "code",
   "execution_count": null,
   "metadata": {},
   "outputs": [],
   "source": []
  }
 ],
 "metadata": {
  "kernelspec": {
   "display_name": "Python 3",
   "language": "python",
   "name": "python3"
  },
  "language_info": {
   "codemirror_mode": {
    "name": "ipython",
    "version": 3
   },
   "file_extension": ".py",
   "mimetype": "text/x-python",
   "name": "python",
   "nbconvert_exporter": "python",
   "pygments_lexer": "ipython3",
   "version": "3.5.6"
  }
 },
 "nbformat": 4,
 "nbformat_minor": 2
}
