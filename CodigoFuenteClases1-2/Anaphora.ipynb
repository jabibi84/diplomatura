{
 "cells": [
  {
   "cell_type": "markdown",
   "metadata": {},
   "source": [
    "# Anaphora"
   ]
  },
  {
   "cell_type": "markdown",
   "metadata": {},
   "source": [
    "Ejemplo extradido del libro: Natural Language Processing with Python Cookbook"
   ]
  },
  {
   "cell_type": "markdown",
   "metadata": {},
   "source": [
    "En el lenguaje hablado no se suele repetir el nombre de una perosna, por ejemplo y se utiliza el pronombre, por ejemplo:"
   ]
  },
  {
   "cell_type": "markdown",
   "metadata": {},
   "source": [
    "Juan estudia. El tiene buenas notas."
   ]
  },
  {
   "cell_type": "code",
   "execution_count": 1,
   "metadata": {},
   "outputs": [],
   "source": [
    "import nltk"
   ]
  },
  {
   "cell_type": "code",
   "execution_count": 2,
   "metadata": {},
   "outputs": [],
   "source": [
    "from nltk.chunk import tree2conlltags"
   ]
  },
  {
   "cell_type": "code",
   "execution_count": 3,
   "metadata": {},
   "outputs": [],
   "source": [
    "from nltk.corpus import names"
   ]
  },
  {
   "cell_type": "code",
   "execution_count": 4,
   "metadata": {},
   "outputs": [],
   "source": [
    "import random"
   ]
  },
  {
   "cell_type": "code",
   "execution_count": 5,
   "metadata": {},
   "outputs": [],
   "source": [
    "class AnaphoraExample:\n",
    "    def __init__(self):\n",
    "        males = [(name, 'male') for name in names.words('male.txt')]\n",
    "        females = [(name, 'female') for name in names.words('female.txt')]\n",
    "        combined = males + females\n",
    "        random.shuffle(combined)\n",
    "        training = [(self.feature(name), gender) for (name, gender) in combined]\n",
    "        self._classifier = nltk.NaiveBayesClassifier.train(training)\n",
    "\n",
    "    def feature(self, word):\n",
    "        return {'last(1)' : word[-1]}\n",
    "\n",
    "    def gender(self, word):\n",
    "        return self._classifier.classify(self.feature(word))\n",
    "\n",
    "    def learnAnaphora(self):\n",
    "        sentences = [\n",
    "            \"John is a man. He walks\",\n",
    "            \"John and Mary are married. They have two kids\",\n",
    "            \"In order for Ravi to be successful, he should follow John\",\n",
    "            \"John met Mary in Barista. She asked him to order a Pizza\"\n",
    "        ]\n",
    "\n",
    "        for sent in sentences:\n",
    "            chunks = nltk.ne_chunk(nltk.pos_tag(nltk.word_tokenize(sent)), binary=False)\n",
    "            stack = []\n",
    "            print(sent)\n",
    "            items = tree2conlltags(chunks)\n",
    "            for item in items:\n",
    "                if item[1] == 'NNP' and (item[2] == 'B-PERSON' or item[2] == 'O'):\n",
    "                    stack.append((item[0], self.gender(item[0])))\n",
    "                elif item[1] == 'CC':\n",
    "                    stack.append(item[0])\n",
    "                elif item[1] == 'PRP':\n",
    "                    stack.append(item[0])\n",
    "            print(\"\\t {}\".format(stack))"
   ]
  },
  {
   "cell_type": "code",
   "execution_count": 6,
   "metadata": {},
   "outputs": [],
   "source": [
    "anaphora = AnaphoraExample()"
   ]
  },
  {
   "cell_type": "code",
   "execution_count": 7,
   "metadata": {},
   "outputs": [
    {
     "name": "stdout",
     "output_type": "stream",
     "text": [
      "John is a man. He walks\n",
      "\t [('John', 'male'), 'He']\n",
      "John and Mary are married. They have two kids\n",
      "\t [('John', 'male'), 'and', ('Mary', 'female'), 'They']\n",
      "In order for Ravi to be successful, he should follow John\n",
      "\t [('Ravi', 'female'), 'he', ('John', 'male')]\n",
      "John met Mary in Barista. She asked him to order a Pizza\n",
      "\t [('John', 'male'), ('Mary', 'female'), 'She', 'him']\n"
     ]
    }
   ],
   "source": [
    "anaphora.learnAnaphora()"
   ]
  },
  {
   "cell_type": "code",
   "execution_count": null,
   "metadata": {},
   "outputs": [],
   "source": []
  }
 ],
 "metadata": {
  "kernelspec": {
   "display_name": "Python 3",
   "language": "python",
   "name": "python3"
  },
  "language_info": {
   "codemirror_mode": {
    "name": "ipython",
    "version": 3
   },
   "file_extension": ".py",
   "mimetype": "text/x-python",
   "name": "python",
   "nbconvert_exporter": "python",
   "pygments_lexer": "ipython3",
   "version": "3.5.6"
  }
 },
 "nbformat": 4,
 "nbformat_minor": 2
}
