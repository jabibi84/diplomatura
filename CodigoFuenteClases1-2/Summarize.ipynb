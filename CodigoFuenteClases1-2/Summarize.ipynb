{
 "cells": [
  {
   "cell_type": "markdown",
   "metadata": {},
   "source": [
    "# Summarize"
   ]
  },
  {
   "cell_type": "markdown",
   "metadata": {},
   "source": [
    "Ejemplo extradido del libro: Natural Language Processing with Python Cookbook"
   ]
  },
  {
   "cell_type": "markdown",
   "metadata": {},
   "source": [
    "Resumen de un texto."
   ]
  },
  {
   "cell_type": "code",
   "execution_count": 1,
   "metadata": {},
   "outputs": [
    {
     "name": "stderr",
     "output_type": "stream",
     "text": [
      "C:\\utils\\Anaconda3510\\lib\\site-packages\\gensim\\utils.py:1197: UserWarning: detected Windows; aliasing chunkize to chunkize_serial\n",
      "  warnings.warn(\"detected Windows; aliasing chunkize to chunkize_serial\")\n"
     ]
    }
   ],
   "source": [
    "from gensim.summarization import summarize"
   ]
  },
  {
   "cell_type": "code",
   "execution_count": 2,
   "metadata": {},
   "outputs": [],
   "source": [
    "from bs4 import BeautifulSoup"
   ]
  },
  {
   "cell_type": "code",
   "execution_count": 3,
   "metadata": {},
   "outputs": [],
   "source": [
    "import requests"
   ]
  },
  {
   "cell_type": "code",
   "execution_count": 6,
   "metadata": {},
   "outputs": [],
   "source": [
    "urls = {\n",
    "    'Investigating DHCP Using Game-Theoretic Technology': 'http://scigen.csail.mit.edu/scicache/610/scimakelatex.16473.html',\n",
    "    'Decoupling DHTs from Wide-Area Networks in the Internet': 'http://scigen.csail.mit.edu/scicache/790/scimakelatex.23707.html'\n",
    "}"
   ]
  },
  {
   "cell_type": "code",
   "execution_count": 7,
   "metadata": {},
   "outputs": [
    {
     "name": "stdout",
     "output_type": "stream",
     "text": [
      "PAPER URL: http://scigen.csail.mit.edu/scicache/610/scimakelatex.16473.html\n",
      "TITLE: Investigating DHCP Using Game-Theoretic Technology\n",
      "GENERATED SUMMARY: example, many heuristics store the simulation of consistent hashing.\n",
      "related work in the field.\n",
      "Nevertheless, this method is mostly considered significant.\n",
      "fact that similar applications improve interposable configurations, we\n",
      "solution is the investigation of gigabit switches.\n",
      "result of the important unification of online algorithms and kernels.\n",
      "switches  and extreme programming  are often incompatible.\n",
      "refinement of scatter/gather I/O, we believe that a different solution\n",
      "This is a direct result of the significant\n",
      "studies journaling file systems.\n",
      "We emphasize that GreDiscant stores the improvement of\n",
      "journaling file systems.\n",
      "We prove the analysis of simulated annealing.\n",
      "Figure 1 details our methodology's \"fuzzy\"\n",
      "algorithm for the evaluation of access points by E.\n",
      "GreDiscant caches B-trees  in the manner detailed above.\n",
      "The design for GreDiscant consists\n",
      "Next, we consider a method consisting of n wide-area networks.\n",
      "Our implementation of GreDiscant is heterogeneous, perfect, and\n",
      "effective optical drive throughput of pseudorandom information is the\n",
      "key to our evaluation methodology.\n",
      "The expected clock speed of GreDiscant, compared with the other\n",
      "quadrupled the effective optical drive space of our mobile telephones.\n",
      "Our experiments soon proved that distributing our\n",
      "Our experiments soon proved that patching our\n",
      "4.2  Experiments and Results\n",
      "The expected throughput of GreDiscant, as a function of power.\n",
      "Newtons; (2) we deployed 52 LISP machines across the Planetlab network,\n",
      "disk throughput as a function of hard disk space on an Apple ][e; and\n",
      "derived from known results.\n",
      "Note the heavy tail on the CDF in Figure 4,\n",
      "our data points fell outside of 71 standard deviations from observed\n",
      "Figure 4, in particular, proves that four years of hard\n",
      "have been elided, since most of our data points fell outside of 86\n",
      "in Figure 2, exhibiting muted mean signal-to-noise ratio.\n",
      "articulated the need for journaling file systems.\n",
      "address several key issues that our methodology does solve.\n",
      "A number of related heuristics have simulated certifiable\n",
      "In general, GreDiscant outperformed all previous heuristics in\n",
      "A number of related heuristics have simulated decentralized\n",
      "GreDiscant does solve.\n",
      "[9] differs from ours in that we simulate only technical\n",
      "information in GreDiscant [20,18,5].\n",
      "our application is broadly related to work in the field of algorithms\n",
      "In the end, note that GreDiscant is recursively enumerable;\n",
      "as a result, our application follows a Zipf-like distribution\n",
      "This work follows a long line of existing methods, all\n",
      "In this position paper we proposed GreDiscant, a cacheable tool for\n",
      "visualizing DHTs. Along these same lines, our model for evaluating the\n",
      "understanding of operating systems is urgently useful.\n",
      "framework for symbiotic algorithms.\n",
      "Evaluating superblocks using robust algorithms.\n",
      "On the simulation of model checking.\n",
      "In Proceedings of the Workshop on Distributed, Bayesian\n",
      "Journal of Knowledge-Based, Large-Scale Modalities 48  (Nov.\n",
      "Lakshminarayanan, K., Johnson, D., Wang, O., Li, V., and Kumar,\n",
      "Miller, F., Robinson, G., Gupta, a., Bachman, C., Abiteboul, S.,\n",
      "In Proceedings of the Workshop on Game-Theoretic, \"Fuzzy\"\n",
      "Journal of Constant-Time, Autonomous Modalities 76  (Sept.\n",
      "The influence of efficient information on operating systems.\n",
      "In Proceedings of the Workshop on Data Mining and\n",
      "A methodology for the study of systems.\n",
      "Journal of Concurrent, Constant-Time Archetypes 10  (Apr.\n",
      "Collaborative Algorithms  (Apr. 2001).\n",
      "The influence of extensible symmetries on software engineering.\n",
      "Journal of Ubiquitous, Mobile Communication 78  (Apr. 1999),\n",
      "A case for systems.\n",
      "Evaluating telephony and access points with ChokyEpigram.\n",
      "In Proceedings of the Workshop on Extensible, Wireless\n",
      "In Proceedings of the Workshop on Mobile Modalities  (Aug.\n",
      "\n",
      "PAPER URL: http://scigen.csail.mit.edu/scicache/790/scimakelatex.23707.html\n",
      "TITLE: Decoupling DHTs from Wide-Area Networks in the Internet\n",
      "GENERATED SUMMARY: use 802.11 mesh networks  to prevent decentralized configurations.\n",
      "algorithms, we believe that a different approach is necessary.\n",
      "Systems engineers entirely analyze pervasive information in the place\n",
      "electrical engineering as following a cycle of four phases: prevention,\n",
      "A confirmed solution to solve this quandary is the theoretical\n",
      "unification of evolutionary programming and Byzantine fault tolerance.\n",
      "refine highly-available symmetries without the construction of 16 bit\n",
      "digital-to-analog converters, we believe that a different approach is\n",
      "motivate the need for 802.11 mesh networks.\n",
      "architectures (RUPIA), verifying that Web services  and evolutionary\n",
      "\n"
     ]
    }
   ],
   "source": [
    "for key in urls.keys():\n",
    "    url = urls[key]\n",
    "    r = requests.get(url)\n",
    "    soup = BeautifulSoup(r.text, 'html.parser')\n",
    "    data = soup.get_text()\n",
    "    pos1 = data.find(\"1  Introduction\") + len(\"1  Introduction\")\n",
    "    pos2 = data.find(\"2  Related Work\")\n",
    "    text = data[pos1:pos2].strip()\n",
    "    print(\"PAPER URL: {}\".format(url))\n",
    "    print(\"TITLE: {}\".format(key))\n",
    "    print(\"GENERATED SUMMARY: {}\".format(summarize(text)))\n",
    "    print()"
   ]
  },
  {
   "cell_type": "code",
   "execution_count": null,
   "metadata": {},
   "outputs": [],
   "source": []
  }
 ],
 "metadata": {
  "kernelspec": {
   "display_name": "Python 3",
   "language": "python",
   "name": "python3"
  },
  "language_info": {
   "codemirror_mode": {
    "name": "ipython",
    "version": 3
   },
   "file_extension": ".py",
   "mimetype": "text/x-python",
   "name": "python",
   "nbconvert_exporter": "python",
   "pygments_lexer": "ipython3",
   "version": "3.5.6"
  }
 },
 "nbformat": 4,
 "nbformat_minor": 2
}
